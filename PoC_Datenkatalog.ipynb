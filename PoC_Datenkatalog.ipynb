{
  "cells": [
    {
      "cell_type": "markdown",
      "metadata": {
        "id": "view-in-github",
        "colab_type": "text"
      },
      "source": [
        "<a href=\"https://colab.research.google.com/github/nrohrbach/PocDatenkatalogBafu/blob/main/PoC_Datenkatalog.ipynb\" target=\"_parent\"><img src=\"https://colab.research.google.com/assets/colab-badge.svg\" alt=\"Open In Colab\"/></a>"
      ]
    },
    {
      "cell_type": "markdown",
      "source": [
        "# Proof of Concept Datenkatalog BAFU für neue Webseite auf Livingdocs\n",
        "Auf der BAFU Webseite sollen künftig alle Daten, Indikatoren, Statistiken und Geodatenmodelle über einen zentralen Katalog gefunden werden. Die Inhalte des Katalogs stammen aus der API von opendata.swiss und von anderen Quellen."
      ],
      "metadata": {
        "id": "TYoTMW-oHOff"
      },
      "id": "TYoTMW-oHOff"
    },
    {
      "cell_type": "code",
      "source": [
        "import requests\n",
        "import pandas as pd\n"
      ],
      "metadata": {
        "id": "IS3wvU24zRzD"
      },
      "id": "IS3wvU24zRzD",
      "execution_count": 1,
      "outputs": []
    },
    {
      "cell_type": "code",
      "source": [
        "# Filtermöglichkeiten des Katalogs vorbereiten\n",
        "Thema =   ['Abfall',\n",
        "           'Altlasten',\n",
        "           'Bildung, Forschung, Innovation',\n",
        "           'Biodiversität',\n",
        "           'Biotechnologie',\n",
        "           'Boden',\n",
        "           'Chemikalien',\n",
        "           'Elektrosmog und Licht',\n",
        "           'Ernährung, Wohnen, Mobilität',\n",
        "           'Gesundheit',\n",
        "           'Internationales',\n",
        "           'Klima',\n",
        "           'Landschaft',\n",
        "           'Lärm',\n",
        "           'Luft',\n",
        "           'Naturgefahren',\n",
        "           'Recht',\n",
        "           'Störfallvorsorge',\n",
        "           'Umweltverträglichkeitsprüfung',\n",
        "           'Wald & Holz',\n",
        "           'Wasser',\n",
        "           'Wirtschaft und Konsum'\n",
        "           ]\n",
        "\n",
        "Datentyp = ['Indikator',\n",
        "            'Statistik',\n",
        "            'Geodaten',\n",
        "            'Geodatenmodell',\n",
        "            'Monitoring',\n",
        "            'Daten',\n",
        "            'Daten von Webseite']\n",
        "\n",
        "Monitoring = ['LFI',\n",
        "              'NABO',\n",
        "              'NABEL',\n",
        "              'NADUF',\n",
        "              'NAWA',\n",
        "              'NAQUA',\n",
        "              'LABES',\n",
        "              'BDM',\n",
        "              'SonBase']"
      ],
      "metadata": {
        "id": "spcNDjhN2NYf"
      },
      "id": "spcNDjhN2NYf",
      "execution_count": 5,
      "outputs": []
    },
    {
      "cell_type": "code",
      "source": [
        "# Mapping der BAFU-Themen auf das Keyword bei opendata.swiss\n",
        "#--------------------------------------------------------------------------\n",
        "def map_options(option):\n",
        "  mapping = {\n",
        "      'Abfall': 'abfall',\n",
        "      'Altlasten': 'altlasten',\n",
        "      'Bildung, Forschung, Innovation': 'bildung',\n",
        "      'Biodiversität': 'biodiversitat',\n",
        "      'Biotechnologie' : 'biotechnologie',\n",
        "      'Boden' : 'boden',\n",
        "      'Chemikalien' : 'chemikalien',\n",
        "      'Elektrosmog und Licht' : 'elektrosmog',\n",
        "      'Ernährung, Wohnen, Mobilität'  : 'ernaehrung',\n",
        "      'Gesundheit'  : 'gesundheit',\n",
        "      'Internationales'  : 'internationales',\n",
        "      'Klima'  : 'klima',\n",
        "      'Landschaft'  : 'landschaft',\n",
        "      'Lärm'  : 'laerm',\n",
        "      'Luft'  : 'luft',\n",
        "      'Naturgefahren'  : 'naturgefahren',\n",
        "      'Recht'  : 'recht',\n",
        "      'Störfallvorsorge'  : 'storfallvorsorge',\n",
        "      'Umweltverträglichkeitsprüfung'  : 'umweltvertraeglichkeitpruefung',\n",
        "      'Wald & Holz'  : 'wald',\n",
        "      'Wasser'  : 'wasser',\n",
        "      'Wirtschaft und Konsum'  : 'wirtschaft'\n",
        "  }\n",
        "  return mapping.get(option, None) # Return None if option is not found\n"
      ],
      "metadata": {
        "id": "XXXLXMX-2zWF"
      },
      "id": "XXXLXMX-2zWF",
      "execution_count": 6,
      "outputs": []
    },
    {
      "cell_type": "code",
      "source": [
        "# Funktion welche Keywords extrahiert\n",
        "def extract_keywords(x):\n",
        "           if isinstance(x, dict):\n",
        "                      return set().union(*x.values())\n",
        "           elif isinstance(x, list):\n",
        "                      return set(x)\n",
        "           elif isinstance(x, str):\n",
        "                      return {x}\n",
        "           else:\n",
        "                      return set()"
      ],
      "metadata": {
        "id": "pyrZsxLlaEw5"
      },
      "id": "pyrZsxLlaEw5",
      "execution_count": 7,
      "outputs": []
    },
    {
      "cell_type": "code",
      "source": [
        "# Funktion welche Daten aus opendata.swiss und Indikatoren abfragt\n",
        "#--------------------------------------------------------------------------\n",
        "@st.cache_data\n",
        "def get_bafu_data():\n",
        "  \"\"\"\n",
        "  Fetches data packages from the opendata.swiss API for the BAFU organization.\n",
        "\n",
        "  Returns:\n",
        "      pandas.DataFrame or None: A DataFrame containing the data packages if the\n",
        "                                 API request is successful, otherwise None.\n",
        "  \"\"\"\n",
        "  url = \"https://opendata.swiss/api/3/action/package_search\"\n",
        "  params = {\n",
        "      \"q\": \"organization:bundesamt-fur-umwelt-bafu\",\n",
        "      \"rows\": 1000  # Request a large number of rows to get all entries\n",
        "  }\n",
        "  try:\n",
        "    response = requests.get(url, params=params)\n",
        "    response.raise_for_status()  # Raise an HTTPError for bad responses (4xx or 5xx)\n",
        "    data = response.json()\n",
        "\n",
        "    if data['success']:\n",
        "        packages = data['result']['results']\n",
        "        df = pd.DataFrame(packages)\n",
        "        dfOpendataSwiss = df\n",
        "        dfOpendataSwiss['URL'] = 'https://opendata.swiss/de/dataset/' + dfOpendataSwiss['title_for_slug']\n",
        "        dfOpendataSwiss['Kontakt'] = dfOpendataSwiss['maintainer_email']\n",
        "        dfOpendataSwiss = dfOpendataSwiss[['keywords', 'title','description', 'modified','issued','Kontakt','URL',]]\n",
        "        dfOpendataSwiss['description'] = dfOpendataSwiss['description'].apply(lambda x: x['de'] if isinstance(x, dict) and 'de' in x else None)\n",
        "        dfOpendataSwiss['title'] = dfOpendataSwiss['title'].apply(lambda x: x['de'] if isinstance(x, dict) and 'de' in x else None)\n",
        "        dfOpendataSwiss['Typ'] = 'Daten'\n",
        "        dfOpendataSwiss['Typ'] = dfOpendataSwiss.apply(lambda row: 'Geodatenmodell' if 'Geodatenmodell' in str(row['title']) else row['Typ'], axis=1)\n",
        "\n",
        "        # prompt: wenn ein Wort aus dem Array Monitoring in title oder description vorkommt, wird das Attribut Typ auf Monitoring gesetzt\n",
        "        dfOpendataSwiss['Typ'] = dfOpendataSwiss.apply(lambda row: 'Monitoring' if any(word in str(row['title']) or word in str(row['description']) for word in Monitoring) else row['Typ'], axis=1)\n",
        "\n",
        "        # Statistiken und Indikatoren lesen\n",
        "        urlexcel = 'https://uvek-gis.admin.ch/BAFU/umweltdaten/opendata.swiss/StatistikenIndikatoren.xlsx'\n",
        "        dfStatistikenIndikatoren = pd.read_excel(urlexcel, engine=\"openpyxl\")\n",
        "\n",
        "        # Mapping auf Keywords\n",
        "        dfStatistikenIndikatoren['keywords'] = dfStatistikenIndikatoren['keywords'].apply(lambda x: [map_options(x)] if pd.notnull(x) and map_options(x) is not None else [])\n",
        "\n",
        "        # Combine the two dataframes\n",
        "        dfCombined = pd.concat([dfOpendataSwiss, dfStatistikenIndikatoren], ignore_index=True)\n",
        "\n",
        "        return dfCombined\n",
        "    else:\n",
        "        print(\"API request was not successful.\")\n",
        "        print(data.get('error', 'No error message provided.'))\n",
        "        return None\n",
        "  except requests.exceptions.RequestException as e:\n",
        "      print(f\"Error fetching data: {e}\")\n",
        "      return None\n",
        "\n",
        "\n",
        "dfCombined = get_bafu_data()\n"
      ],
      "metadata": {
        "collapsed": true,
        "id": "I8XFOifcaHcz",
        "outputId": "a92ad714-2074-4105-9859-2251bc43c35c",
        "colab": {
          "base_uri": "https://localhost:8080/"
        }
      },
      "id": "I8XFOifcaHcz",
      "execution_count": 20,
      "outputs": [
        {
          "output_type": "stream",
          "name": "stderr",
          "text": [
            "/tmp/ipython-input-20-606786190.py:29: SettingWithCopyWarning: \n",
            "A value is trying to be set on a copy of a slice from a DataFrame.\n",
            "Try using .loc[row_indexer,col_indexer] = value instead\n",
            "\n",
            "See the caveats in the documentation: https://pandas.pydata.org/pandas-docs/stable/user_guide/indexing.html#returning-a-view-versus-a-copy\n",
            "  dfOpendataSwiss['description'] = dfOpendataSwiss['description'].apply(lambda x: x['de'] if isinstance(x, dict) and 'de' in x else None)\n",
            "/tmp/ipython-input-20-606786190.py:30: SettingWithCopyWarning: \n",
            "A value is trying to be set on a copy of a slice from a DataFrame.\n",
            "Try using .loc[row_indexer,col_indexer] = value instead\n",
            "\n",
            "See the caveats in the documentation: https://pandas.pydata.org/pandas-docs/stable/user_guide/indexing.html#returning-a-view-versus-a-copy\n",
            "  dfOpendataSwiss['title'] = dfOpendataSwiss['title'].apply(lambda x: x['de'] if isinstance(x, dict) and 'de' in x else None)\n",
            "/tmp/ipython-input-20-606786190.py:31: SettingWithCopyWarning: \n",
            "A value is trying to be set on a copy of a slice from a DataFrame.\n",
            "Try using .loc[row_indexer,col_indexer] = value instead\n",
            "\n",
            "See the caveats in the documentation: https://pandas.pydata.org/pandas-docs/stable/user_guide/indexing.html#returning-a-view-versus-a-copy\n",
            "  dfOpendataSwiss['Typ'] = 'Daten'\n",
            "/tmp/ipython-input-20-606786190.py:32: SettingWithCopyWarning: \n",
            "A value is trying to be set on a copy of a slice from a DataFrame.\n",
            "Try using .loc[row_indexer,col_indexer] = value instead\n",
            "\n",
            "See the caveats in the documentation: https://pandas.pydata.org/pandas-docs/stable/user_guide/indexing.html#returning-a-view-versus-a-copy\n",
            "  dfOpendataSwiss['Typ'] = dfOpendataSwiss.apply(lambda row: 'Geodatenmodell' if 'Geodatenmodell' in str(row['title']) else row['Typ'], axis=1)\n",
            "/tmp/ipython-input-20-606786190.py:35: SettingWithCopyWarning: \n",
            "A value is trying to be set on a copy of a slice from a DataFrame.\n",
            "Try using .loc[row_indexer,col_indexer] = value instead\n",
            "\n",
            "See the caveats in the documentation: https://pandas.pydata.org/pandas-docs/stable/user_guide/indexing.html#returning-a-view-versus-a-copy\n",
            "  dfOpendataSwiss['Typ'] = dfOpendataSwiss.apply(lambda row: 'Monitoring' if any(word in str(row['title']) or word in str(row['description']) for word in Monitoring) else row['Typ'], axis=1)\n"
          ]
        }
      ]
    },
    {
      "cell_type": "code",
      "source": [
        "#--------------------------------------------------------------------------\n",
        "# Streamlit App\n",
        "#--------------------------------------------------------------------------\n",
        "# Streamlit App\n",
        "st.title(\"BAFU Datenkatalog\")\n",
        "\n",
        "# Fetch data\n",
        "dfCombined = get_bafu_data()\n",
        "\n",
        "if dfCombined is not None:\n",
        "    # Search bar\n",
        "    search_query = st.text_input(\"Suche nach Titel oder Beschreibung\")\n",
        "\n",
        "    # Filter by Thema using checkboxes\n",
        "    st.sidebar.subheader(\"Themenfilter\")\n",
        "    selected_themen = []\n",
        "    for thema_option in Thema:\n",
        "        if st.sidebar.checkbox(thema_option):\n",
        "            selected_themen.append(thema_option)\n",
        "\n",
        "    # Filter by Typ using selectbox (remains for now)\n",
        "    selected_typ = st.selectbox(\"Filter nach Typ:\", [\"Alle\"] + Datentyp)\n",
        "\n",
        "\n",
        "    # Apply filters\n",
        "    filtered_df = dfCombined.copy()\n",
        "\n",
        "    if search_query:\n",
        "        filtered_df = filtered_df[\n",
        "            filtered_df['title'].str.contains(search_query, case=False, na=False) |\n",
        "            filtered_df['description'].str.contains(search_query, case=False, na=False)\n",
        "        ]\n",
        "\n",
        "    # Apply Thema filter from checkboxes\n",
        "    if selected_themen:\n",
        "        mapped_selected_themen = [map_options(t) for t in selected_themen if map_options(t) is not None]\n",
        "\n",
        "        if mapped_selected_themen:\n",
        "           filtered_df = filtered_df[\n",
        "                   filtered_df['keywords'].apply(\n",
        "                              lambda x: bool(extract_keywords(x) & set(mapped_selected_themen))\n",
        "                   )\n",
        "                   ]\n",
        "\n",
        "            #filtered_df = filtered_df[\n",
        "             #   filtered_df['keywords'].apply(lambda x: any(keyword in mapped_selected_themen for keyword in x) if isinstance(x, list) else False)\n",
        "            #]\n",
        "\n",
        "\n",
        "    if selected_typ != \"Alle\":\n",
        "        filtered_df = filtered_df[filtered_df['Typ'] == selected_typ]\n",
        "\n",
        "    # Display results\n",
        "    st.subheader(f\"Gefundene Einträge: {len(filtered_df)}\")\n",
        "\n",
        "    if not filtered_df.empty:\n",
        "        for index, row in filtered_df.iterrows():\n",
        "            with st.expander(f\"**{row['title']}**\"):\n",
        "                st.write(f\"**Typ:** {row['Typ']}\")\n",
        "                st.write(f\"**Beschreibung:** {row['description']}\")\n",
        "                if 'modified' in row and pd.notnull(row['modified']):\n",
        "                    st.write(f\"**Zuletzt geändert:** {row['modified']}\")\n",
        "                if 'Kontakt' in row and pd.notnull(row['Kontakt']):\n",
        "                     st.write(f\"**Kontakt:** [{row['Kontakt']}]({row['Kontakt']})\")\n",
        "                if 'URL' in row and pd.notnull(row['URL']):\n",
        "                     st.write(f\"**Download:** [{'Daten herunterladen'}]({row['URL']})\")\n",
        "\n",
        "    else:\n",
        "        st.info(\"Keine Einträge gefunden, die den Kriterien entsprechen.\")\n",
        "else:\n",
        "    st.error(\"Fehler beim Laden der Daten.\")"
      ],
      "metadata": {
        "id": "nqYUA82PkhAQ"
      },
      "id": "nqYUA82PkhAQ",
      "execution_count": null,
      "outputs": []
    },
    {
      "cell_type": "code",
      "source": [],
      "metadata": {
        "id": "6t4UaGnWpkDQ"
      },
      "id": "6t4UaGnWpkDQ",
      "execution_count": null,
      "outputs": []
    }
  ],
  "metadata": {
    "kernelspec": {
      "display_name": "Python 3",
      "language": "python",
      "name": "python3"
    },
    "language_info": {
      "codemirror_mode": {
        "name": "ipython",
        "version": 3
      },
      "file_extension": ".py",
      "mimetype": "text/x-python",
      "name": "python",
      "nbconvert_exporter": "python",
      "pygments_lexer": "ipython3",
      "version": "3.7.11"
    },
    "colab": {
      "provenance": [],
      "include_colab_link": true
    }
  },
  "nbformat": 4,
  "nbformat_minor": 5
}